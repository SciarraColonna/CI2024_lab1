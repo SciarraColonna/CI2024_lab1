{
 "cells": [
  {
   "cell_type": "markdown",
   "metadata": {},
   "source": [
    "Copyright **`(c)`** 2024 Giovanni Squillero `<giovanni.squillero@polito.it>`  \n",
    "[`https://github.com/squillero/computational-intelligence`](https://github.com/squillero/computational-intelligence)  \n",
    "Free for personal or classroom use; see [`LICENSE.md`](https://github.com/squillero/computational-intelligence/blob/master/LICENSE.md) for details.  "
   ]
  },
  {
   "cell_type": "markdown",
   "metadata": {},
   "source": [
    "# Set Cover problem\n",
    "\n",
    "See: https://en.wikipedia.org/wiki/Set_cover_problem"
   ]
  },
  {
   "cell_type": "code",
   "execution_count": 83,
   "metadata": {},
   "outputs": [],
   "source": [
    "import random\n",
    "from itertools import accumulate\n",
    "import numpy as np\n",
    "from matplotlib import pyplot as plt\n",
    "\n",
    "from icecream import ic"
   ]
  },
  {
   "cell_type": "markdown",
   "metadata": {},
   "source": [
    "## Reproducible Initialization\n",
    "\n",
    "If you want to get reproducible results, use `rng` (and restart the kernel); for non-reproducible ones, use `np.random`."
   ]
  },
  {
   "cell_type": "code",
   "execution_count": 84,
   "metadata": {},
   "outputs": [],
   "source": [
    "# total number of elements in the universe set\n",
    "UNIVERSE_SIZE = 100_000\n",
    "# total number of subsets\n",
    "NUM_SETS = 10_000\n",
    "# each element of the universe set is covered by 30% of the subsets\n",
    "DENSITY = 0.3\n",
    "\n",
    "# number generator\n",
    "rng = np.random.Generator(np.random.PCG64([UNIVERSE_SIZE, NUM_SETS, int(10_000 * DENSITY)]))"
   ]
  },
  {
   "cell_type": "code",
   "execution_count": 85,
   "metadata": {},
   "outputs": [],
   "source": [
    "# DON'T EDIT THESE LINES!\n",
    "\n",
    "SETS = np.random.random((NUM_SETS, UNIVERSE_SIZE)) < DENSITY\n",
    "# this iteration checks wether there is a column of SETS that has no value at True (i.e. it check that there is \n",
    "# any element that is not covered by any subset)\n",
    "for s in range(UNIVERSE_SIZE):\n",
    "    if not np.any(SETS[:, s]):\n",
    "        # if there is one column of SETS all set to false, we set to true a random element (i.e. a random row)\n",
    "        SETS[np.random.randint(NUM_SETS), s] = True\n",
    "\n",
    "# array containing the cost associated to each subset\n",
    "COSTS = np.power(SETS.sum(axis=1), 1.1)"
   ]
  },
  {
   "cell_type": "markdown",
   "metadata": {},
   "source": [
    "## Helper Functions"
   ]
  },
  {
   "cell_type": "code",
   "execution_count": 86,
   "metadata": {},
   "outputs": [],
   "source": [
    "def valid(solution):\n",
    "    \"\"\" Checks wether solution is valid (ie. covers all universe) \"\"\"\n",
    "    return np.all(np.logical_or.reduce(SETS[solution]))\n",
    "\n",
    "\n",
    "def cost(solution):\n",
    "    \"\"\" Returns the cost of a solution (to be minimized) \"\"\"\n",
    "    return COSTS[solution].sum()"
   ]
  },
  {
   "cell_type": "markdown",
   "metadata": {},
   "source": [
    "## Have Fun!"
   ]
  },
  {
   "cell_type": "code",
   "execution_count": null,
   "metadata": {},
   "outputs": [],
   "source": [
    "# A dumb solution of \"all\" sets\n",
    "solution = np.full(NUM_SETS, True)\n",
    "valid(solution), cost(solution)"
   ]
  },
  {
   "cell_type": "code",
   "execution_count": null,
   "metadata": {},
   "outputs": [],
   "source": [
    "# A random solution with random 50% of the sets\n",
    "solution = rng.random(NUM_SETS) < .5\n",
    "valid(solution), cost(solution)"
   ]
  },
  {
   "cell_type": "markdown",
   "metadata": {},
   "source": [
    "## Trivial solution: **Single Random Mutation Hill Climber**\n",
    "This approach starts with a candidate solution which is the empty solution, i.e. no set is considered (every element of the array is set to `False`). The tweak function randomly flips one element of the current solution. The flipping is a one-way flipping (only from `False` to `True`). The iterative process keeps tweaking the current solution until it reaches a state of no improvement at which we empirically consider that no more optimization is possible (in the surrounding space) and, because of this, we obtained our final solution."
   ]
  },
  {
   "cell_type": "code",
   "execution_count": 89,
   "metadata": {},
   "outputs": [],
   "source": [
    "# definition of the candidate solution\n",
    "candidate_solution = np.array([False] * NUM_SETS)"
   ]
  },
  {
   "cell_type": "code",
   "execution_count": 90,
   "metadata": {},
   "outputs": [],
   "source": [
    "# this function computes the number of the elements of the universe set that are currently covered by one or more\n",
    "# subsets of the current solution\n",
    "def covered_elements(solution):\n",
    "    selected_sets = SETS[solution, :]\n",
    "    combined_elements = np.any(selected_sets, axis=0)\n",
    "    num_covered_elements = np.sum(combined_elements)\n",
    "\n",
    "    return num_covered_elements\n",
    "\n",
    "\n",
    "# definition of the fitness function: \n",
    "# - maximization of the covered elements (in order not to keep the solution to the starting state)\n",
    "# - minimization of the total cost of the solution\n",
    "def fitness (solution):\n",
    "    return (covered_elements(solution), -cost(solution))"
   ]
  },
  {
   "cell_type": "code",
   "execution_count": 91,
   "metadata": {},
   "outputs": [],
   "source": [
    "# the tweak function takes a random element of the solution with value False and sets it to True\n",
    "def tweak (current_solution):\n",
    "    new_solution = current_solution.copy()\n",
    "    if np.sum(current_solution) == NUM_SETS:\n",
    "        return current_solution\n",
    "    while True:\n",
    "        rand_index = random.randint(0, (NUM_SETS - 1))\n",
    "        if current_solution[rand_index] == False:\n",
    "            break\n",
    "    \n",
    "    new_solution[rand_index] = True\n",
    "    return new_solution"
   ]
  },
  {
   "cell_type": "markdown",
   "metadata": {},
   "source": [
    "### Iterative process"
   ]
  },
  {
   "cell_type": "code",
   "execution_count": null,
   "metadata": {},
   "outputs": [],
   "source": [
    "steps = 0\n",
    "current_solution = candidate_solution\n",
    "\n",
    "history = [float(fitness(candidate_solution)[0])]\n",
    "best = current_solution\n",
    "while True:\n",
    "    steps += 1\n",
    "\n",
    "    # the tweak is executed multiple times times looking for the best improvement\n",
    "    for _ in range(10):\n",
    "        solution = tweak(current_solution)\n",
    "        if fitness(solution) > fitness(best):\n",
    "            best = solution\n",
    "    \n",
    "    # if the previous tweeks resulted in no improvement, we assume to be in a state in which no immediate optimization\n",
    "    # is possible (so we reached a local optimum)\n",
    "    if np.array_equal(best, current_solution) and valid(best):\n",
    "        break\n",
    "    else:\n",
    "        # if improvements of the solution are possible we take the best one\n",
    "        current_solution = best\n",
    "        history.append(float(fitness(current_solution)[0]))\n",
    "    \n",
    "\n",
    "ic(steps)\n",
    "ic(cost(current_solution))"
   ]
  },
  {
   "cell_type": "markdown",
   "metadata": {},
   "source": [
    "### Iteration plot"
   ]
  },
  {
   "cell_type": "code",
   "execution_count": null,
   "metadata": {},
   "outputs": [],
   "source": [
    "plt.figure(figsize=(14, 8))\n",
    "plt.plot(\n",
    "    range(len(history)),\n",
    "    list(accumulate(history, max)),\n",
    "    color=\"red\",\n",
    ")\n",
    "_ = plt.scatter(range(len(history)), history, marker=\".\")"
   ]
  },
  {
   "cell_type": "markdown",
   "metadata": {},
   "source": [
    "## Second approach: **Multiple Random Mutation Hill Climber**\n",
    "This solution uses a simulated annealing approach implementing a dinamic temperature value, which allows to balance exploration (big jumps) if the solution worsens or exploutation (small jumps) if the solution is improving."
   ]
  },
  {
   "cell_type": "code",
   "execution_count": 94,
   "metadata": {},
   "outputs": [],
   "source": [
    "# definition of the candidate solution\n",
    "candidate_solution = np.random.rand(NUM_SETS) < 0.3"
   ]
  },
  {
   "cell_type": "code",
   "execution_count": 95,
   "metadata": {},
   "outputs": [],
   "source": [
    "# definition of the fitness function (same as before)\n",
    "def fitness (solution):\n",
    "    return (covered_elements(solution), -cost(solution))"
   ]
  },
  {
   "cell_type": "code",
   "execution_count": 96,
   "metadata": {},
   "outputs": [],
   "source": [
    "# definition of the tweak function\n",
    "temperature = 0.5\n",
    "\n",
    "def tweak (current_solution):\n",
    "    mask = rng.random(NUM_SETS) < temperature\n",
    "    \n",
    "    if not np.any(mask):\n",
    "        mask[np.random.randint(NUM_SETS)] = True\n",
    "\n",
    "    new_solution = np.logical_xor(current_solution, mask)\n",
    "    return new_solution"
   ]
  },
  {
   "cell_type": "markdown",
   "metadata": {},
   "source": [
    "### Iterative process"
   ]
  },
  {
   "cell_type": "code",
   "execution_count": null,
   "metadata": {},
   "outputs": [],
   "source": [
    "steps = 0\n",
    "current_solution = candidate_solution\n",
    "history = [float(fitness(candidate_solution)[1])]\n",
    "\n",
    "BUFFER_SIZE = 10\n",
    "buffer = list()\n",
    "\n",
    "for _ in range(1000):\n",
    "    steps += 1\n",
    "    \n",
    "    solution = tweak(current_solution)\n",
    "    history.append(float(fitness(solution)[1]))\n",
    "\n",
    "    buffer.append(fitness(solution) > fitness(current_solution))\n",
    "    buffer = buffer[-BUFFER_SIZE:]\n",
    "\n",
    "    if sum(buffer) > BUFFER_SIZE / 2:\n",
    "        temperature *= 1.5\n",
    "    elif sum(buffer) < BUFFER_SIZE / 2:\n",
    "        temperature /= 1.5\n",
    "\n",
    "\n",
    "    if fitness(solution) > fitness(current_solution):\n",
    "        current_solution = solution\n",
    "    \n",
    "\n",
    "ic(steps)\n",
    "ic(cost(current_solution))"
   ]
  },
  {
   "cell_type": "markdown",
   "metadata": {},
   "source": [
    "### Iteration plot"
   ]
  },
  {
   "cell_type": "code",
   "execution_count": null,
   "metadata": {},
   "outputs": [],
   "source": [
    "plt.figure(figsize=(14, 8))\n",
    "plt.plot(\n",
    "    range(len(history)),\n",
    "    list(accumulate(history, max)),\n",
    "    color=\"red\",\n",
    ")\n",
    "_ = plt.scatter(range(len(history)), history, marker=\".\")"
   ]
  }
 ],
 "metadata": {
  "kernelspec": {
   "display_name": "Python 3",
   "language": "python",
   "name": "python3"
  },
  "language_info": {
   "codemirror_mode": {
    "name": "ipython",
    "version": 3
   },
   "file_extension": ".py",
   "mimetype": "text/x-python",
   "name": "python",
   "nbconvert_exporter": "python",
   "pygments_lexer": "ipython3",
   "version": "3.12.3"
  }
 },
 "nbformat": 4,
 "nbformat_minor": 4
}
